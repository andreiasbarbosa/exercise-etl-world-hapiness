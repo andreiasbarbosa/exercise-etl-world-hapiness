{
  "nbformat": 4,
  "nbformat_minor": 0,
  "metadata": {
    "colab": {
      "provenance": [],
      "authorship_tag": "ABX9TyPT0nrzo6DTQ6lVNAXJ5SHN",
      "include_colab_link": true
    },
    "kernelspec": {
      "name": "python3",
      "display_name": "Python 3"
    },
    "language_info": {
      "name": "python"
    }
  },
  "cells": [
    {
      "cell_type": "markdown",
      "metadata": {
        "id": "view-in-github",
        "colab_type": "text"
      },
      "source": [
        "<a href=\"https://colab.research.google.com/github/andreiasbarbosa/exercise-etl-world-hapiness/blob/main/exercicio_world_happiness_report.ipynb\" target=\"_parent\"><img src=\"https://colab.research.google.com/assets/colab-badge.svg\" alt=\"Open In Colab\"/></a>"
      ]
    },
    {
      "cell_type": "code",
      "execution_count": null,
      "metadata": {
        "id": "TyaDBo1rmaSH"
      },
      "outputs": [],
      "source": [
        "import pandas as pd"
      ]
    },
    {
      "cell_type": "code",
      "source": [
        "df = pd.read_csv('World_Happiness_Report_2024.csv')"
      ],
      "metadata": {
        "id": "phqMKDGcplzi"
      },
      "execution_count": null,
      "outputs": []
    },
    {
      "cell_type": "code",
      "source": [
        "print(df.head())"
      ],
      "metadata": {
        "colab": {
          "base_uri": "https://localhost:8080/"
        },
        "id": "ZoCUabZwpwci",
        "outputId": "19a65416-0146-4ad0-ed8d-485306e7fe18"
      },
      "execution_count": null,
      "outputs": [
        {
          "output_type": "stream",
          "name": "stdout",
          "text": [
            "  Country name  year  Life Ladder  Log GDP per capita  Social support  \\\n",
            "0  Afghanistan  2008     3.723590            7.350416        0.450662   \n",
            "1  Afghanistan  2009     4.401778            7.508646        0.552308   \n",
            "2  Afghanistan  2010     4.758381            7.613900        0.539075   \n",
            "3  Afghanistan  2011     3.831719            7.581259        0.521104   \n",
            "4  Afghanistan  2012     3.782938            7.660506        0.520637   \n",
            "\n",
            "   Healthy life expectancy at birth  Freedom to make life choices  Generosity  \\\n",
            "0                         50.500000                      0.718114    0.164055   \n",
            "1                         50.799999                      0.678896    0.187297   \n",
            "2                         51.099998                      0.600127    0.117861   \n",
            "3                         51.400002                      0.495901    0.160098   \n",
            "4                         51.700001                      0.530935    0.234157   \n",
            "\n",
            "   Perceptions of corruption  Positive affect  Negative affect  \n",
            "0                   0.881686         0.414297         0.258195  \n",
            "1                   0.850035         0.481421         0.237092  \n",
            "2                   0.706766         0.516907         0.275324  \n",
            "3                   0.731109         0.479835         0.267175  \n",
            "4                   0.775620         0.613513         0.267919  \n"
          ]
        }
      ]
    },
    {
      "cell_type": "code",
      "source": [
        "df = df.rename(columns={\n",
        "    'Country name': 'Pais',\n",
        "    'year': 'Ano',\n",
        "    'Life Ladder': 'Felicidade',\n",
        "    'Log GDP per capita': 'Logaritmo_PIB_per_capita',\n",
        "    'Social support': 'Suporte_social',\n",
        "    'Healthy life expectancy at birth': 'Expectativa_de_vida_saudavel',\n",
        "    'Freedom to make life choices': 'Liberdade_de_escolhas',\n",
        "    'Generosity': 'Generosidade',\n",
        "    'Perceptions of corruption': 'Percepcao_de_corrupcao',\n",
        "    'Positive affect': 'Efeito_positivo',\n",
        "    'Negative affect': 'Efeito_negativo'\n",
        "})"
      ],
      "metadata": {
        "id": "q1N-98Lwp0hH"
      },
      "execution_count": null,
      "outputs": []
    },
    {
      "cell_type": "code",
      "source": [
        "print(df)"
      ],
      "metadata": {
        "colab": {
          "base_uri": "https://localhost:8080/"
        },
        "id": "LbDCBxiFstMD",
        "outputId": "c9532ea5-ec3d-4a3d-998b-116bb8359052"
      },
      "execution_count": null,
      "outputs": [
        {
          "output_type": "stream",
          "name": "stdout",
          "text": [
            "             Pais   Ano  Felicidade  Logaritmo_PIB_per_capita  Suporte_social  \\\n",
            "0     Afghanistan  2008    3.723590                  7.350416        0.450662   \n",
            "1     Afghanistan  2009    4.401778                  7.508646        0.552308   \n",
            "2     Afghanistan  2010    4.758381                  7.613900        0.539075   \n",
            "3     Afghanistan  2011    3.831719                  7.581259        0.521104   \n",
            "4     Afghanistan  2012    3.782938                  7.660506        0.520637   \n",
            "...           ...   ...         ...                       ...             ...   \n",
            "2358     Zimbabwe  2019    2.693523                  7.697755        0.759162   \n",
            "2359     Zimbabwe  2020    3.159802                  7.596050        0.717243   \n",
            "2360     Zimbabwe  2021    3.154578                  7.656878        0.685151   \n",
            "2361     Zimbabwe  2022    3.296220                  7.670073        0.666172   \n",
            "2362     Zimbabwe  2023    3.572386                  7.678590        0.693817   \n",
            "\n",
            "      Expectativa_de_vida_saudavel  Liberdade_de_escolhas  Generosidade  \\\n",
            "0                        50.500000               0.718114      0.164055   \n",
            "1                        50.799999               0.678896      0.187297   \n",
            "2                        51.099998               0.600127      0.117861   \n",
            "3                        51.400002               0.495901      0.160098   \n",
            "4                        51.700001               0.530935      0.234157   \n",
            "...                            ...                    ...           ...   \n",
            "2358                     53.099998               0.631908     -0.050874   \n",
            "2359                     53.575001               0.643303      0.002848   \n",
            "2360                     54.049999               0.667636     -0.079007   \n",
            "2361                     54.525002               0.651987     -0.072935   \n",
            "2362                     55.000000               0.734613     -0.068837   \n",
            "\n",
            "      Percepcao_de_corrupcao  Efeito_positivo  Efeito_negativo  \n",
            "0                   0.881686         0.414297         0.258195  \n",
            "1                   0.850035         0.481421         0.237092  \n",
            "2                   0.706766         0.516907         0.275324  \n",
            "3                   0.731109         0.479835         0.267175  \n",
            "4                   0.775620         0.613513         0.267919  \n",
            "...                      ...              ...              ...  \n",
            "2358                0.830652         0.658434         0.235354  \n",
            "2359                0.788523         0.660658         0.345736  \n",
            "2360                0.756945         0.609917         0.241682  \n",
            "2361                0.752632         0.640609         0.191350  \n",
            "2362                0.757494         0.609752         0.178953  \n",
            "\n",
            "[2363 rows x 11 columns]\n"
          ]
        }
      ]
    },
    {
      "cell_type": "code",
      "source": [
        "df = df.dropna()"
      ],
      "metadata": {
        "id": "7COVoo8rsvwd"
      },
      "execution_count": null,
      "outputs": []
    },
    {
      "cell_type": "code",
      "source": [
        "df['Ano'] = pd.to_numeric(df['Ano'], errors='coerce')\n",
        "df['Felicidade'] = pd.to_numeric(df['Felicidade'], errors='coerce')\n",
        "df['Logaritmo_PIB_per_capita'] = pd.to_numeric(df['Logaritmo_PIB_per_capita'], errors='coerce')\n",
        "df['Suporte_social'] = pd.to_numeric(df['Suporte_social'], errors='coerce')\n",
        "df['Expectativa_de_vida_saudavel'] = pd.to_numeric(df['Expectativa_de_vida_saudavel'], errors='coerce')\n",
        "df['Liberdade_de_escolhas'] = pd.to_numeric(df['Liberdade_de_escolhas'], errors='coerce')\n",
        "df['Generosidade'] = pd.to_numeric(df['Generosidade'], errors='coerce')\n",
        "df['Percepcao_de_corrupcao'] = pd.to_numeric(df['Percepcao_de_corrupcao'], errors='coerce')\n",
        "df['Efeito_positivo'] = pd.to_numeric(df['Efeito_positivo'], errors='coerce')\n",
        "df['Efeito_negativo'] = pd.to_numeric(df['Efeito_negativo'], errors='coerce')"
      ],
      "metadata": {
        "id": "7RB5bwuitDlc"
      },
      "execution_count": null,
      "outputs": []
    },
    {
      "cell_type": "markdown",
      "source": [
        "criei uma função para classificar a felicidade de acordo com a pontuação. O metodo .apply permite que eu aplique uma função a cada elemento de uma coluna (ou linha)"
      ],
      "metadata": {
        "id": "MgcByTCNurpd"
      }
    },
    {
      "cell_type": "code",
      "source": [
        "def classificar_felicidade(score):\n",
        "  if score > 6.5:\n",
        "    return 'Alta'\n",
        "  elif score >= 5.0:\n",
        "    return 'Média'\n",
        "  else:\n",
        "    return 'Baixa'\n",
        "\n",
        "df['Nivel_felicidade'] = df['Felicidade'].apply(classificar_felicidade)"
      ],
      "metadata": {
        "id": "KAHuJ8gntcFM"
      },
      "execution_count": null,
      "outputs": []
    },
    {
      "cell_type": "code",
      "source": [
        "df = df.dropna()\n",
        "print(df)"
      ],
      "metadata": {
        "colab": {
          "base_uri": "https://localhost:8080/"
        },
        "id": "WshL5WHhvW5X",
        "outputId": "2ec389bb-e0d2-4d5e-8891-9cc6b684193f"
      },
      "execution_count": null,
      "outputs": [
        {
          "output_type": "stream",
          "name": "stdout",
          "text": [
            "             Pais   Ano  Felicidade  Logaritmo_PIB_per_capita  Suporte_social  \\\n",
            "0     Afghanistan  2008    3.723590                  7.350416        0.450662   \n",
            "1     Afghanistan  2009    4.401778                  7.508646        0.552308   \n",
            "2     Afghanistan  2010    4.758381                  7.613900        0.539075   \n",
            "3     Afghanistan  2011    3.831719                  7.581259        0.521104   \n",
            "4     Afghanistan  2012    3.782938                  7.660506        0.520637   \n",
            "...           ...   ...         ...                       ...             ...   \n",
            "2358     Zimbabwe  2019    2.693523                  7.697755        0.759162   \n",
            "2359     Zimbabwe  2020    3.159802                  7.596050        0.717243   \n",
            "2360     Zimbabwe  2021    3.154578                  7.656878        0.685151   \n",
            "2361     Zimbabwe  2022    3.296220                  7.670073        0.666172   \n",
            "2362     Zimbabwe  2023    3.572386                  7.678590        0.693817   \n",
            "\n",
            "      Expectativa_de_vida_saudavel  Liberdade_de_escolhas  Generosidade  \\\n",
            "0                        50.500000               0.718114      0.164055   \n",
            "1                        50.799999               0.678896      0.187297   \n",
            "2                        51.099998               0.600127      0.117861   \n",
            "3                        51.400002               0.495901      0.160098   \n",
            "4                        51.700001               0.530935      0.234157   \n",
            "...                            ...                    ...           ...   \n",
            "2358                     53.099998               0.631908     -0.050874   \n",
            "2359                     53.575001               0.643303      0.002848   \n",
            "2360                     54.049999               0.667636     -0.079007   \n",
            "2361                     54.525002               0.651987     -0.072935   \n",
            "2362                     55.000000               0.734613     -0.068837   \n",
            "\n",
            "      Percepcao_de_corrupcao  Efeito_positivo  Efeito_negativo  \\\n",
            "0                   0.881686         0.414297         0.258195   \n",
            "1                   0.850035         0.481421         0.237092   \n",
            "2                   0.706766         0.516907         0.275324   \n",
            "3                   0.731109         0.479835         0.267175   \n",
            "4                   0.775620         0.613513         0.267919   \n",
            "...                      ...              ...              ...   \n",
            "2358                0.830652         0.658434         0.235354   \n",
            "2359                0.788523         0.660658         0.345736   \n",
            "2360                0.756945         0.609917         0.241682   \n",
            "2361                0.752632         0.640609         0.191350   \n",
            "2362                0.757494         0.609752         0.178953   \n",
            "\n",
            "     Nivel_felicidade  \n",
            "0               Baixa  \n",
            "1               Baixa  \n",
            "2               Baixa  \n",
            "3               Baixa  \n",
            "4               Baixa  \n",
            "...               ...  \n",
            "2358            Baixa  \n",
            "2359            Baixa  \n",
            "2360            Baixa  \n",
            "2361            Baixa  \n",
            "2362            Baixa  \n",
            "\n",
            "[2097 rows x 12 columns]\n"
          ]
        }
      ]
    },
    {
      "cell_type": "code",
      "source": [
        "paises_latam = [\"Argentina\", \"Bolivia\", \"Brazil\", \"Chile\", \"Colombia\", \"Costa Rica\", \"Cuba\",\n",
        "    \"Dominican Republic\", \"Ecuador\", \"El Salvador\", \"Guatemala\", \"Honduras\",\n",
        "    \"Mexico\", \"Nicaragua\", \"Panama\", \"Paraguay\", \"Peru\", \"Uruguay\", \"Venezuela\",\n",
        "    \"Puerto Rico\", \"French Guiana\", \"Guadeloupe\", \"Martinique\"]\n",
        "\n",
        "\n",
        "df_latam = df[df['Pais'].isin(paises_latam)]"
      ],
      "metadata": {
        "id": "7hWwebSQvZtH"
      },
      "execution_count": null,
      "outputs": []
    },
    {
      "cell_type": "code",
      "source": [
        "print(df_latam)"
      ],
      "metadata": {
        "colab": {
          "base_uri": "https://localhost:8080/"
        },
        "id": "-ncA-Zbdw1OB",
        "outputId": "694949fa-5fe1-427c-ff5f-fcdfac4849ac"
      },
      "execution_count": null,
      "outputs": [
        {
          "output_type": "stream",
          "name": "stdout",
          "text": [
            "           Pais   Ano  Felicidade  Logaritmo_PIB_per_capita  Suporte_social  \\\n",
            "46    Argentina  2006    6.312925                  9.936886        0.938463   \n",
            "47    Argentina  2007    6.073158                 10.013071        0.862206   \n",
            "48    Argentina  2008    5.961034                 10.042918        0.892195   \n",
            "49    Argentina  2009    6.424133                  9.971766        0.918693   \n",
            "50    Argentina  2010    6.441067                 10.065660        0.926799   \n",
            "...         ...   ...         ...                       ...             ...   \n",
            "2287  Venezuela  2015    5.568800                  8.532187        0.911087   \n",
            "2288  Venezuela  2016    4.041115                  7.602412        0.901949   \n",
            "2289  Venezuela  2017    5.070751                  5.943209        0.895879   \n",
            "2290  Venezuela  2018    5.005663                  5.935122        0.886882   \n",
            "2291  Venezuela  2019    5.080803                  5.526723        0.887672   \n",
            "\n",
            "      Expectativa_de_vida_saudavel  Liberdade_de_escolhas  Generosidade  \\\n",
            "46                       65.820000               0.733004     -0.162121   \n",
            "47                       65.940002               0.652833     -0.146241   \n",
            "48                       66.059998               0.678222     -0.137006   \n",
            "49                       66.180000               0.636646     -0.135176   \n",
            "50                       66.300003               0.730258     -0.131507   \n",
            "...                            ...                    ...           ...   \n",
            "2287                     65.099998               0.512159     -0.088826   \n",
            "2288                     64.925003               0.457602     -0.059512   \n",
            "2289                     64.750000               0.635505      0.050079   \n",
            "2290                     64.574997               0.610855      0.067952   \n",
            "2291                     64.400002               0.625526      0.123792   \n",
            "\n",
            "      Percepcao_de_corrupcao  Efeito_positivo  Efeito_negativo  \\\n",
            "46                  0.851799         0.748283         0.328230   \n",
            "47                  0.881058         0.749826         0.279008   \n",
            "48                  0.864996         0.719997         0.318222   \n",
            "49                  0.884742         0.761590         0.236901   \n",
            "50                  0.854695         0.765480         0.210975   \n",
            "...                      ...              ...              ...   \n",
            "2287                0.813097         0.837069         0.222635   \n",
            "2288                0.890125         0.675662         0.391754   \n",
            "2289                0.843969         0.697486         0.362985   \n",
            "2290                0.827560         0.723260         0.373658   \n",
            "2291                0.839340         0.729553         0.350950   \n",
            "\n",
            "     Nivel_felicidade  \n",
            "46              Média  \n",
            "47              Média  \n",
            "48              Média  \n",
            "49              Média  \n",
            "50              Média  \n",
            "...               ...  \n",
            "2287            Média  \n",
            "2288            Baixa  \n",
            "2289            Média  \n",
            "2290            Média  \n",
            "2291            Média  \n",
            "\n",
            "[311 rows x 12 columns]\n"
          ]
        }
      ]
    },
    {
      "cell_type": "code",
      "source": [
        "df_ordenado = df_latam.sort_values(by='Felicidade', ascending=False)\n",
        "\n",
        "# ascending - False ordena do maior para menor e True do menor para maior\n",
        "\n",
        "print(df_ordenado.head(10))  # Confirmar que tá ordenado"
      ],
      "metadata": {
        "colab": {
          "base_uri": "https://localhost:8080/"
        },
        "id": "BhNsI0MEyIOS",
        "outputId": "0bb3708f-25a0-47f8-82d4-11de9ac23646"
      },
      "execution_count": null,
      "outputs": [
        {
          "output_type": "stream",
          "name": "stdout",
          "text": [
            "            Pais   Ano  Felicidade  Logaritmo_PIB_per_capita  Suporte_social  \\\n",
            "476   Costa Rica  2009    7.614929                  9.681845        0.899782   \n",
            "2282   Venezuela  2010    7.478455                  9.747845        0.931576   \n",
            "1359      Mexico  2013    7.442546                  9.843951        0.759138   \n",
            "474   Costa Rica  2007    7.432132                  9.671674        0.917678   \n",
            "490   Costa Rica  2023    7.384069                 10.020897        0.874572   \n",
            "1618      Panama  2010    7.321467                 10.009518        0.927533   \n",
            "1358      Mexico  2012    7.320185                  9.843673        0.767279   \n",
            "479   Costa Rica  2012    7.272250                  9.787512        0.902207   \n",
            "477   Costa Rica  2010    7.271054                  9.721187        0.915141   \n",
            "1619      Panama  2011    7.248081                 10.098905        0.876284   \n",
            "\n",
            "      Expectativa_de_vida_saudavel  Liberdade_de_escolhas  Generosidade  \\\n",
            "476                      69.040001               0.886061      0.056549   \n",
            "2282                     65.300003               0.768257     -0.162844   \n",
            "1359                     65.519997               0.738717     -0.171333   \n",
            "474                      68.720001               0.922736      0.089157   \n",
            "490                      70.000000               0.933381     -0.066685   \n",
            "1618                     67.500000               0.754524     -0.017254   \n",
            "1358                     65.379997               0.787768     -0.099475   \n",
            "479                      69.519997               0.928914      0.036736   \n",
            "477                      69.199997               0.881030      0.038453   \n",
            "1619                     67.660004               0.829013      0.000246   \n",
            "\n",
            "      Percepcao_de_corrupcao  Efeito_positivo  Efeito_negativo  \\\n",
            "476                 0.786559         0.839989         0.217024   \n",
            "2282                0.754269         0.847400         0.129686   \n",
            "1359                0.614747         0.749587         0.222949   \n",
            "474                 0.819655         0.825872         0.240080   \n",
            "490                 0.766938         0.806322         0.281795   \n",
            "1618                0.879826         0.840977         0.146369   \n",
            "1358                0.633281         0.721976         0.278111   \n",
            "479                 0.794301         0.836754         0.263027   \n",
            "477                 0.762587         0.826531         0.221241   \n",
            "1619                0.839684         0.852717         0.179641   \n",
            "\n",
            "     Nivel_felicidade  \n",
            "476              Alta  \n",
            "2282             Alta  \n",
            "1359             Alta  \n",
            "474              Alta  \n",
            "490              Alta  \n",
            "1618             Alta  \n",
            "1358             Alta  \n",
            "479              Alta  \n",
            "477              Alta  \n",
            "1619             Alta  \n"
          ]
        }
      ]
    },
    {
      "cell_type": "code",
      "source": [
        "df_latam = df_ordenado\n",
        "print(df_latam)"
      ],
      "metadata": {
        "colab": {
          "base_uri": "https://localhost:8080/"
        },
        "id": "gV_8yakT3iuX",
        "outputId": "a10a7311-d0c4-4471-bd5a-a8666963a3b1"
      },
      "execution_count": null,
      "outputs": [
        {
          "output_type": "stream",
          "name": "stdout",
          "text": [
            "            Pais   Ano  Felicidade  Logaritmo_PIB_per_capita  Suporte_social  \\\n",
            "476   Costa Rica  2009    7.614929                  9.681845        0.899782   \n",
            "2282   Venezuela  2010    7.478455                  9.747845        0.931576   \n",
            "1359      Mexico  2013    7.442546                  9.843951        0.759138   \n",
            "474   Costa Rica  2007    7.432132                  9.671674        0.917678   \n",
            "490   Costa Rica  2023    7.384069                 10.020897        0.874572   \n",
            "...          ...   ...         ...                       ...             ...   \n",
            "1631    Paraguay  2006    4.730082                  9.153956        0.895428   \n",
            "836     Honduras  2013    4.713358                  8.521372        0.791960   \n",
            "835     Honduras  2012    4.602218                  8.512798        0.779195   \n",
            "1516   Nicaragua  2006    4.460158                  8.395250        0.877170   \n",
            "2288   Venezuela  2016    4.041115                  7.602412        0.901949   \n",
            "\n",
            "      Expectativa_de_vida_saudavel  Liberdade_de_escolhas  Generosidade  \\\n",
            "476                      69.040001               0.886061      0.056549   \n",
            "2282                     65.300003               0.768257     -0.162844   \n",
            "1359                     65.519997               0.738717     -0.171333   \n",
            "474                      68.720001               0.922736      0.089157   \n",
            "490                      70.000000               0.933381     -0.066685   \n",
            "...                            ...                    ...           ...   \n",
            "1631                     64.879997               0.691022      0.055793   \n",
            "836                      61.700001               0.698400     -0.031263   \n",
            "835                      61.900002               0.700452     -0.007312   \n",
            "1516                     64.300003               0.745456      0.004562   \n",
            "2288                     64.925003               0.457602     -0.059512   \n",
            "\n",
            "      Percepcao_de_corrupcao  Efeito_positivo  Efeito_negativo  \\\n",
            "476                 0.786559         0.839989         0.217024   \n",
            "2282                0.754269         0.847400         0.129686   \n",
            "1359                0.614747         0.749587         0.222949   \n",
            "474                 0.819655         0.825872         0.240080   \n",
            "490                 0.766938         0.806322         0.281795   \n",
            "...                      ...              ...              ...   \n",
            "1631                0.840989         0.751927         0.302746   \n",
            "836                 0.867700         0.794985         0.283281   \n",
            "835                 0.871437         0.796344         0.293591   \n",
            "1516                0.844391         0.780207         0.294416   \n",
            "2288                0.890125         0.675662         0.391754   \n",
            "\n",
            "     Nivel_felicidade  \n",
            "476              Alta  \n",
            "2282             Alta  \n",
            "1359             Alta  \n",
            "474              Alta  \n",
            "490              Alta  \n",
            "...               ...  \n",
            "1631            Baixa  \n",
            "836             Baixa  \n",
            "835             Baixa  \n",
            "1516            Baixa  \n",
            "2288            Baixa  \n",
            "\n",
            "[311 rows x 12 columns]\n"
          ]
        }
      ]
    },
    {
      "cell_type": "code",
      "source": [
        "df_latam.to_csv('relatório_felicidade_latam_2024.csv', index=False)"
      ],
      "metadata": {
        "id": "2GMhIbf7637t"
      },
      "execution_count": null,
      "outputs": []
    }
  ]
}